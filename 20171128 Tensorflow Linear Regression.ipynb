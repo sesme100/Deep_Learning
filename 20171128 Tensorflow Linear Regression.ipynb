{
 "cells": [
  {
   "cell_type": "markdown",
   "metadata": {},
   "source": [
    "## Tensorflow Basic"
   ]
  },
  {
   "cell_type": "markdown",
   "metadata": {},
   "source": [
    "* Define & Run 방식: C, 자바언어 complie이 필요 -Tensorflow 방식 \n",
    "* Define by run: Python 등 interpreter 언어\n",
    "* Define graph & excecute Session: 그래프로 정의 세션으로 실행:"
   ]
  },
  {
   "cell_type": "code",
   "execution_count": null,
   "metadata": {
    "collapsed": true
   },
   "outputs": [],
   "source": [
    "### Graph: Define 된 모든 tensor(Node,숫자등 연산해야하는 객체),Operator(연산자) "
   ]
  },
  {
   "cell_type": "code",
   "execution_count": 3,
   "metadata": {
    "collapsed": true
   },
   "outputs": [],
   "source": [
    "import tensorflow as tf"
   ]
  },
  {
   "cell_type": "code",
   "execution_count": 17,
   "metadata": {
    "collapsed": true
   },
   "outputs": [],
   "source": [
    "## Tensor \n",
    "tf_string = tf.constant('hello tensorflow')\n",
    "tf_int = tf.constant(10)\n",
    "tf_float = tf.constant(3.14)"
   ]
  },
  {
   "cell_type": "code",
   "execution_count": 6,
   "metadata": {},
   "outputs": [
    {
     "name": "stdout",
     "output_type": "stream",
     "text": [
      "Tensor(\"Const_1:0\", shape=(), dtype=string)\n",
      "Tensor(\"Const_2:0\", shape=(), dtype=int32)\n",
      "Tensor(\"Const_3:0\", shape=(), dtype=float32)\n"
     ]
    }
   ],
   "source": [
    "print(tf_string)\n",
    "print(tf_int)\n",
    "print(tf_float)"
   ]
  },
  {
   "cell_type": "code",
   "execution_count": 10,
   "metadata": {},
   "outputs": [
    {
     "data": {
      "text/plain": [
       "'Const_1:0'"
      ]
     },
     "execution_count": 10,
     "metadata": {},
     "output_type": "execute_result"
    }
   ],
   "source": [
    "tf_string.name"
   ]
  },
  {
   "cell_type": "code",
   "execution_count": 11,
   "metadata": {},
   "outputs": [
    {
     "data": {
      "text/plain": [
       "TensorShape([])"
      ]
     },
     "execution_count": 11,
     "metadata": {},
     "output_type": "execute_result"
    }
   ],
   "source": [
    "tf_string.shape\n"
   ]
  },
  {
   "cell_type": "code",
   "execution_count": 12,
   "metadata": {},
   "outputs": [
    {
     "data": {
      "text/plain": [
       "tf.string"
      ]
     },
     "execution_count": 12,
     "metadata": {},
     "output_type": "execute_result"
    }
   ],
   "source": [
    "tf_string.dtype"
   ]
  },
  {
   "cell_type": "code",
   "execution_count": 15,
   "metadata": {},
   "outputs": [
    {
     "name": "stdout",
     "output_type": "stream",
     "text": [
      "Tensor(\"MatMul:0\", shape=(3, 1), dtype=int32)\n"
     ]
    }
   ],
   "source": [
    "one = tf.constant([[1,2,3],[4,5,6],[7,8,9]])\n",
    "two = tf.constant([[2],[2],[2]])\n",
    "\n",
    "matmul = tf.matmul(one,two)\n",
    "print(matmul)"
   ]
  },
  {
   "cell_type": "code",
   "execution_count": 20,
   "metadata": {},
   "outputs": [
    {
     "name": "stdout",
     "output_type": "stream",
     "text": [
      "3.14\n",
      "10\n",
      "b'hello tensorflow'\n"
     ]
    }
   ],
   "source": [
    "tf_string = tf.constant('hello tensorflow')\n",
    "tf_int = tf.constant(10)\n",
    "tf_float = tf.constant(3.14)\n",
    "\n",
    "with tf.Session() as sess: \n",
    "    _tf_string = sess.run(tf_string)\n",
    "    _tf_int =sess.run(tf_int)\n",
    "    _tf_float = sess.run(tf_float)\n",
    "\n",
    "    print(_tf_string)\n",
    "    print(_tf_float)\n",
    "    print(_tf_int)\n"
   ]
  },
  {
   "cell_type": "markdown",
   "metadata": {},
   "source": [
    "### Constant"
   ]
  },
  {
   "cell_type": "code",
   "execution_count": 23,
   "metadata": {},
   "outputs": [
    {
     "name": "stdout",
     "output_type": "stream",
     "text": [
      "10\n"
     ]
    }
   ],
   "source": [
    "const = tf.constant(10)\n",
    "\n",
    "with tf.Session() as sess:\n",
    "    print(sess.run(const)) ## 대입연산"
   ]
  },
  {
   "cell_type": "markdown",
   "metadata": {},
   "source": [
    "### Placeholder"
   ]
  },
  {
   "cell_type": "code",
   "execution_count": 25,
   "metadata": {},
   "outputs": [
    {
     "name": "stdout",
     "output_type": "stream",
     "text": [
      "[ 1.  2.  3.  4.  5.]\n"
     ]
    }
   ],
   "source": [
    "data = [1, 2, 3, 4, 5]\n",
    "pl_data = tf.placeholder(tf.float32)\n",
    "\n",
    "with tf.Session() as sess:\n",
    "    print(sess.run(pl_data, {pl_data: data})) ## maping 필요 "
   ]
  },
  {
   "cell_type": "markdown",
   "metadata": {},
   "source": [
    "## variable : weight \n",
    "* 특징: initializing 필요 "
   ]
  },
  {
   "cell_type": "code",
   "execution_count": 27,
   "metadata": {},
   "outputs": [
    {
     "name": "stdout",
     "output_type": "stream",
     "text": [
      "10\n"
     ]
    }
   ],
   "source": [
    "var = tf.Variable(10)\n",
    "\n",
    "with tf.Session() as sess:\n",
    "    sess.run(tf.global_variables_initializer()) ## initializing 필요 \n",
    "    print(sess.run(var)) "
   ]
  },
  {
   "cell_type": "markdown",
   "metadata": {},
   "source": [
    "## 실습: Linear Regression\n",
    "* Generating Data\n",
    "* Building Model\n",
    "* Training Model\n",
    "* Implementation\n"
   ]
  },
  {
   "cell_type": "markdown",
   "metadata": {},
   "source": [
    "### Training Model \n",
    "\n",
    "L(y′,y)=1/2m∑n=1m(y′n−yn)2⋯mean squared error"
   ]
  },
  {
   "cell_type": "markdown",
   "metadata": {},
   "source": [
    "### 최소값 찾는 방법 →→ Gradient Descent Optimizer\n",
    "\n",
    "업데이트된 W=이전W−−α*∂L/∂W ( 기존의 Loss 함수를 가중치로 미분 "
   ]
  },
  {
   "cell_type": "markdown",
   "metadata": {},
   "source": [
    "### Implementation "
   ]
  },
  {
   "cell_type": "code",
   "execution_count": 76,
   "metadata": {
    "collapsed": true
   },
   "outputs": [],
   "source": [
    "import tensorflow as tf\n",
    "import numpy as np\n",
    "import matplotlib.pyplot as plt\n",
    "% matplotlib inline"
   ]
  },
  {
   "cell_type": "code",
   "execution_count": 174,
   "metadata": {
    "collapsed": true
   },
   "outputs": [],
   "source": [
    "samples = 1000\n",
    "data = np.array([1e-3*float(i) for i in range(samples)]) ## linear 데이터 만들기 "
   ]
  },
  {
   "cell_type": "code",
   "execution_count": 226,
   "metadata": {},
   "outputs": [
    {
     "name": "stdout",
     "output_type": "stream",
     "text": [
      "[ 2.51031948  2.81112355  2.74183371  2.79662962  2.76199183  2.57048762\n",
      "  2.81603786  2.6413732   2.64938026  2.80844636]\n"
     ]
    }
   ],
   "source": [
    "## 실제 값 만들기 = label 값 ( noise 포함됨)\n",
    "label = 4.2*data + 2.7 + np.random.randn(samples)*0.1 ## weight*data + bias + noise \n",
    "print(label[:10]) \n",
    "target = 4.2 *data+ 2.7 ## target linear (noise없는 깔끔한 target )"
   ]
  },
  {
   "cell_type": "code",
   "execution_count": 227,
   "metadata": {},
   "outputs": [
    {
     "data": {
      "text/plain": [
       "0.01"
      ]
     },
     "execution_count": 227,
     "metadata": {},
     "output_type": "execute_result"
    }
   ],
   "source": [
    "1e-2"
   ]
  },
  {
   "cell_type": "code",
   "execution_count": 228,
   "metadata": {},
   "outputs": [
    {
     "data": {
      "text/plain": [
       "<matplotlib.collections.PathCollection at 0x1d7a845d2b0>"
      ]
     },
     "execution_count": 228,
     "metadata": {},
     "output_type": "execute_result"
    },
    {
     "data": {
      "image/png": "[encoded data removed]",
      "text/plain": [
       "<matplotlib.figure.Figure at 0x1d7a3ff9240>"
      ]
     },
     "metadata": {},
     "output_type": "display_data"
    }
   ],
   "source": [
    "plt.scatter(data, label) ## 실제 값들 feature 값 ,label 값 plot"
   ]
  },
  {
   "cell_type": "code",
   "execution_count": 229,
   "metadata": {},
   "outputs": [
    {
     "data": {
      "text/plain": [
       "<matplotlib.collections.PathCollection at 0x1d7a8528320>"
      ]
     },
     "execution_count": 229,
     "metadata": {},
     "output_type": "execute_result"
    },
    {
     "data": {
      "image/png": "[encoded data removed]",
      "text/plain": [
       "<matplotlib.figure.Figure at 0x1d7a85283c8>"
      ]
     },
     "metadata": {},
     "output_type": "display_data"
    }
   ],
   "source": [
    "plt.scatter(data,label)\n",
    "plt.scatter(data,target) ## 목표로 가지는 linear 값 "
   ]
  },
  {
   "cell_type": "code",
   "execution_count": 230,
   "metadata": {},
   "outputs": [
    {
     "data": {
      "text/plain": [
       "[<matplotlib.lines.Line2D at 0x1d7a844e5c0>]"
      ]
     },
     "execution_count": 230,
     "metadata": {},
     "output_type": "execute_result"
    },
    {
     "data": {
      "image/png": "[encoded data removed]",
      "text/plain": [
       "<matplotlib.figure.Figure at 0x1d7a84d6e10>"
      ]
     },
     "metadata": {},
     "output_type": "display_data"
    }
   ],
   "source": [
    "plt.plot(target,'b')"
   ]
  },
  {
   "cell_type": "code",
   "execution_count": 231,
   "metadata": {
    "collapsed": true
   },
   "outputs": [],
   "source": [
    "x = tf.placeholder (tf.float32)\n",
    "y_ = tf.placeholder(tf.float32)\n",
    "w = tf.Variable(4.) ## 4로 가중치를 주고 이제부터 업데이트 하여 최적의 w값을 찾음 \n",
    "b = tf.Variable(-4.0) ## prediction model "
   ]
  },
  {
   "cell_type": "code",
   "execution_count": 232,
   "metadata": {
    "collapsed": true
   },
   "outputs": [],
   "source": [
    "y = w*x + b"
   ]
  },
  {
   "cell_type": "code",
   "execution_count": 233,
   "metadata": {
    "collapsed": true
   },
   "outputs": [],
   "source": [
    "loss = tf.losses.mean_squared_error(y_,y) ## cost "
   ]
  },
  {
   "cell_type": "code",
   "execution_count": 234,
   "metadata": {
    "collapsed": true
   },
   "outputs": [],
   "source": [
    "train_op= tf.train.GradientDescentOptimizer(1e-2).minimize(loss) \n",
    "## optimizer\n",
    "## step size =1e-2 , loss를 최소화 하기 "
   ]
  },
  {
   "cell_type": "code",
   "execution_count": 235,
   "metadata": {
    "collapsed": true
   },
   "outputs": [],
   "source": [
    "init = tf.global_variables_initializer()"
   ]
  },
  {
   "cell_type": "code",
   "execution_count": 239,
   "metadata": {
    "scrolled": true
   },
   "outputs": [
    {
     "name": "stdout",
     "output_type": "stream",
     "text": [
      "2310.37\n",
      "242.958\n",
      "32.2089\n",
      "10.6682\n",
      "8.40974\n",
      "8.11695\n",
      "8.0251\n",
      "7.95433\n",
      "7.88629\n",
      "7.81914\n",
      "7.75266\n",
      "7.68684\n",
      "7.62166\n",
      "7.55712\n",
      "7.4932\n",
      "7.42991\n",
      "7.36724\n",
      "7.30518\n",
      "7.24372\n",
      "7.18287\n",
      "7.12262\n",
      "7.06295\n",
      "7.00386\n",
      "6.94535\n",
      "6.88741\n",
      "6.83004\n",
      "6.77323\n",
      "6.71697\n",
      "6.66127\n",
      "6.6061\n",
      "6.55148\n",
      "6.49739\n",
      "6.44383\n",
      "6.39079\n",
      "6.33827\n",
      "6.28626\n",
      "6.23476\n",
      "6.18376\n",
      "6.13327\n",
      "6.08326\n",
      "6.03374\n",
      "5.98471\n",
      "5.93616\n",
      "5.88808\n",
      "5.84047\n",
      "5.79333\n",
      "5.74664\n",
      "5.70041\n",
      "5.65463\n",
      "5.6093\n",
      "5.56442\n",
      "5.51997\n",
      "5.47596\n",
      "5.43237\n",
      "5.38921\n",
      "5.34648\n",
      "5.30416\n",
      "5.26226\n",
      "5.22076\n",
      "5.17967\n",
      "5.13898\n",
      "5.09869\n",
      "5.05879\n",
      "5.01928\n",
      "4.98016\n",
      "4.94142\n",
      "4.90306\n",
      "4.86507\n",
      "4.82745\n",
      "4.79021\n",
      "4.75332\n",
      "4.7168\n",
      "4.68063\n",
      "4.64481\n",
      "4.60935\n",
      "4.57423\n",
      "4.53945\n",
      "4.50502\n",
      "4.47092\n",
      "4.43716\n",
      "4.40372\n",
      "4.37061\n",
      "4.33783\n",
      "4.30536\n",
      "4.27321\n",
      "4.24138\n",
      "4.20986\n",
      "4.17864\n",
      "4.14773\n",
      "4.11712\n",
      "4.08681\n",
      "4.0568\n",
      "4.02708\n",
      "3.99765\n",
      "3.9685\n",
      "3.93965\n",
      "3.91107\n",
      "3.88277\n",
      "3.85475\n",
      "3.82701\n"
     ]
    }
   ],
   "source": [
    "with tf.Session() as sess:\n",
    "    sess.run(init)\n",
    "    for i in range(100):\n",
    "        _,_loss = sess.run([train_op,loss],{x:data,y_:label}) ## session은 한번만 실행시켜줌 for 문 실행필요\n",
    "    ## [train_op,loss] 문은 실행할시에 바로 보여줌 안그러면 계속 돌게 되어서 무한번 실행하게됨 \n",
    "    ## 실행하는 노드에 따라 return 실행\n",
    "        print(_loss)\n",
    "    \n",
    "  ## loss를 최소화 해주는 횟수와 최적의 W를알려줌 "
   ]
  },
  {
   "cell_type": "code",
   "execution_count": null,
   "metadata": {
    "collapsed": true
   },
   "outputs": [],
   "source": [
    "  _pred = sess.run(y,{x:data})"
   ]
  },
  {
   "cell_type": "code",
   "execution_count": 242,
   "metadata": {},
   "outputs": [
    {
     "name": "stdout",
     "output_type": "stream",
     "text": [
      "step:0, _loss:2310.371337890625\n",
      "step:10, _loss:7.752664089202881\n",
      "step:20, _loss:7.122619152069092\n",
      "step:30, _loss:6.551479339599609\n",
      "step:40, _loss:6.033743858337402\n",
      "step:50, _loss:5.564420700073242\n",
      "step:60, _loss:5.138979434967041\n",
      "step:70, _loss:4.753320693969727\n",
      "step:80, _loss:4.403720855712891\n",
      "step:90, _loss:4.086810111999512\n"
     ]
    },
    {
     "data": {
      "text/plain": [
       "<matplotlib.collections.PathCollection at 0x1d7a82985c0>"
      ]
     },
     "execution_count": 242,
     "metadata": {},
     "output_type": "execute_result"
    },
    {
     "data": {
      "image/png": "[encoded data removed]",
      "text/plain": [
       "<matplotlib.figure.Figure at 0x1d7a84aa6a0>"
      ]
     },
     "metadata": {},
     "output_type": "display_data"
    }
   ],
   "source": [
    "with tf.Session() as sess:\n",
    "    sess.run(init)\n",
    "    for i in range(100):\n",
    "        _,_loss = sess.run([train_op,loss],{x:data,y_:label})## mapping \n",
    "        ## _ = train_op , _loss = loss를 나타냄 \n",
    "        if i % 10 ==0:\n",
    "            _pred = sess.run(y,{x:data})\n",
    "            plt.scatter(data,_pred,1,'r')\n",
    "            print('step:{}, _loss:{}'.format(i,_loss))\n",
    "    \n",
    "    plt.scatter(data,target,1,'b') ## target \n",
    "plt.scatter(data,label,1,'b') ## 점선 "
   ]
  },
  {
   "cell_type": "code",
   "execution_count": 310,
   "metadata": {
    "scrolled": true
   },
   "outputs": [
    {
     "name": "stdout",
     "output_type": "stream",
     "text": [
      "step: 0, loss: 460.16326904296875, w: 2.467766284942627, b: 0.38348445296287537\n",
      "step: 100, loss: 1.4184025526046753, w: 3.5046160221099854, b: 1.3593024015426636\n",
      "step: 200, loss: 1.165897011756897, w: 3.430511713027954, b: 1.8494527339935303\n",
      "step: 300, loss: 1.0712884664535522, w: 3.3851516246795654, b: 2.1494789123535156\n",
      "step: 400, loss: 1.0358407497406006, w: 3.357386350631714, b: 2.333127498626709\n",
      "step: 500, loss: 1.0225590467453003, w: 3.340390682220459, b: 2.4455413818359375\n",
      "step: 600, loss: 1.0175827741622925, w: 3.3299877643585205, b: 2.514350175857544\n",
      "step: 700, loss: 1.0157183408737183, w: 3.3236196041107178, b: 2.5564701557159424\n",
      "step: 800, loss: 1.0150197744369507, w: 3.3197219371795654, b: 2.5822510719299316\n",
      "step: 900, loss: 1.0147579908370972, w: 3.317336320877075, b: 2.5980312824249268\n"
     ]
    },
    {
     "data": {
      "image/png": "[encoded data removed]",
      "text/plain": [
       "<matplotlib.figure.Figure at 0x1d7a95c3da0>"
      ]
     },
     "metadata": {},
     "output_type": "display_data"
    },
    {
     "data": {
      "image/png": "[encoded data removed]",
      "text/plain": [
       "<matplotlib.figure.Figure at 0x1d7ad149080>"
      ]
     },
     "metadata": {},
     "output_type": "display_data"
    }
   ],
   "source": [
    "## 강사님 답\n",
    "import tensorflow as tf\n",
    "import matplotlib.pyplot as plt\n",
    "import numpy as np\n",
    "%matplotlib inline\n",
    "\n",
    "samples = 1000\n",
    "data = np.array([1e-2*float(i) for i in range(samples)])\n",
    "label = 3.3*data + 2.7 + np.random.randn(samples)\n",
    "target = 3.3*data + 2.7\n",
    "\n",
    "plt.scatter(data, label, 1, 'r')\n",
    "plt.scatter(data, target, 1, 'b')\n",
    "\n",
    "x = tf.placeholder(tf.float32)\n",
    "y_ = tf.placeholder(tf.float32)\n",
    "\n",
    "w = tf.Variable(0, dtype=tf.float32)\n",
    "b = tf.Variable(0, dtype=tf.float32)\n",
    "\n",
    "y = w*x + b\n",
    "\n",
    "loss = tf.losses.mean_squared_error(y_, y)\n",
    "train_op = tf.train.GradientDescentOptimizer(1e-2).minimize(loss)\n",
    "\n",
    "init = tf.global_variables_initializer()\n",
    "\n",
    "with tf.Session() as sess:\n",
    "    sess.run(init)\n",
    "    loss_curve = []\n",
    "    plt.scatter(data, label, 1, 'g')\n",
    "    for i in range(1000):\n",
    "        _, _loss, _w, _b = sess.run([train_op, loss, w, b], {x: data, y_: label})\n",
    "        loss_curve.append(_loss)\n",
    "        if i%100 == 0:\n",
    "            _pred = sess.run(y, {x: data})## predicted 된 y = 빨강선\n",
    "            plt.scatter(data, _pred, 1, 'r')\n",
    "            print('step: {}, loss: {}, w: {}, b: {}'.format(i, _loss, _w, _b))\n",
    "    \n",
    "    plt.figure(0)\n",
    "    plt.plot(loss_curve[10:])\n",
    "    plt.figure(1)\n",
    "    plt.scatter(data, target, 1, 'b')"
   ]
  },
  {
   "cell_type": "code",
   "execution_count": 311,
   "metadata": {},
   "outputs": [
    {
     "name": "stdout",
     "output_type": "stream",
     "text": [
      "3.31589\n",
      "3.31589\n",
      "3.31589\n",
      "3.31589\n",
      "3.31589\n",
      "3.31589\n",
      "3.31589\n",
      "3.31589\n",
      "3.31589\n",
      "3.31589\n"
     ]
    }
   ],
   "source": [
    "with tf.Session() as sess:\n",
    "    for i in range(1000):\n",
    "        if i % 100 ==0:\n",
    "            \n",
    "            weights = []\n",
    "            weights.append(_w)\n",
    "            print(_w)"
   ]
  },
  {
   "cell_type": "code",
   "execution_count": null,
   "metadata": {
    "collapsed": true
   },
   "outputs": [],
   "source": []
  },
  {
   "cell_type": "code",
   "execution_count": null,
   "metadata": {
    "collapsed": true
   },
   "outputs": [],
   "source": []
  },
  {
   "cell_type": "code",
   "execution_count": null,
   "metadata": {
    "collapsed": true
   },
   "outputs": [],
   "source": []
  }
 ],
 "metadata": {
  "kernelspec": {
   "display_name": "Python 3",
   "language": "python",
   "name": "python3"
  },
  "language_info": {
   "codemirror_mode": {
    "name": "ipython",
    "version": 3
   },
   "file_extension": ".py",
   "mimetype": "text/x-python",
   "name": "python",
   "nbconvert_exporter": "python",
   "pygments_lexer": "ipython3",
   "version": "3.6.1"
  }
 },
 "nbformat": 4,
 "nbformat_minor": 2
}
