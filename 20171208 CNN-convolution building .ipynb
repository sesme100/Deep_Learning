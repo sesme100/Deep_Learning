{
 "cells": [
  {
   "cell_type": "code",
   "execution_count": null,
   "metadata": {
    "collapsed": true
   },
   "outputs": [],
   "source": [
    "!nvidia-smi ## GPU 정보보기 ( 실시간 )\n",
    "## Tesla K80 : GPU 이름\n",
    "## watch nvidia-smi"
   ]
  },
  {
   "cell_type": "code",
   "execution_count": null,
   "metadata": {
    "collapsed": true
   },
   "outputs": [],
   "source": [
    "!export CUDA_VISIBLE_DEVICES=2 ## 5번 GPU 사용 (모델이 깊어지면 지정하여 전체 사용GPU 사용분산)"
   ]
  },
  {
   "cell_type": "code",
   "execution_count": null,
   "metadata": {
    "collapsed": true
   },
   "outputs": [],
   "source": [
    "## CNN 모델사용 "
   ]
  },
  {
   "cell_type": "code",
   "execution_count": 10,
   "metadata": {
    "collapsed": true
   },
   "outputs": [],
   "source": [
    "import tensorflow as tf\n",
    "import os\n",
    "import numpy as np\n",
    "import matplotlib.pyplot as plt\n"
   ]
  },
  {
   "cell_type": "markdown",
   "metadata": {},
   "source": [
    "tf.reset_default_graph() : 주피터 노트북과 같은 환경에서 실행을 하게 되면, 주피터 커널을 리스타트하지 않는 이상 변수들의 컨택스트가 그대로 유지 되기 때문에, 위의 코드를 같은 커널에서 tf.reset_default_graph() 없이, 두 번 이상 실행하게 되면 에러가 난다. 그 이유는 텐서플로우 그래프를 만들어놓고, 그 그래프가 지워지지 않은 상태에서 다시 같은 그래프를 생성하면서 나오는 에러인데, tf.reset_default_graph() 메서드는 기존에 생성된 디폴트 그래프를 모두 삭제해서 그래프가 중복되는 것을 막아준다. "
   ]
  },
  {
   "cell_type": "code",
   "execution_count": 11,
   "metadata": {
    "collapsed": true
   },
   "outputs": [],
   "source": [
    "tf.reset_default_graph()\n",
    "\n",
    "def parser(serialized_example):\n",
    "    feature = {\n",
    "        'age': tf.FixedLenFeature([1], tf.int64),#Configuration for parsing a fixed-length input feature.\n",
    "        'img': tf.FixedLenFeature([61*49], tf.int64) ## 61*49 픽셀\n",
    "    }\n",
    "    \n",
    "    parsed_feature = tf.parse_single_example(serialized_example, feature)\n",
    "    age = tf.cast(parsed_feature['age'], tf.int32)## one-hot 으로 바꿔야 하므로 intiger\n",
    "    img = tf.cast(parsed_feature['img'], tf.float32)## imgage는 실수형\n",
    "    \n",
    "    return age, img"
   ]
  },
  {
   "cell_type": "code",
   "execution_count": 12,
   "metadata": {
    "collapsed": true
   },
   "outputs": [],
   "source": [
    "face_train = './cnn_dataset/face_train.tfrecord'\n",
    "face_test = './cnn_dataset/face_test.tfrecord'\n",
    "train_dataset = tf.contrib.data.TFRecordDataset(face_train).map(parser)## parcer fuction mapping \n",
    "train_dataset = train_dataset.batch(32).shuffle(7777) "
   ]
  },
  {
   "cell_type": "code",
   "execution_count": 13,
   "metadata": {
    "collapsed": true
   },
   "outputs": [],
   "source": [
    "test_dataset = tf.contrib.data.TFRecordDataset(face_test).map(parser)\n",
    "test_dataset = test_dataset.batch(32).shuffle(7777)\n"
   ]
  },
  {
   "cell_type": "code",
   "execution_count": null,
   "metadata": {
    "collapsed": true
   },
   "outputs": [],
   "source": [
    "itr = train_dataset.make_one_shot_iterator() ## iterator 생성\n",
    "\n",
    "age, img = itr.get_next()## 하나끝나면 그다음꺼 하나씩 빼옴 "
   ]
  },
  {
   "cell_type": "code",
   "execution_count": null,
   "metadata": {
    "collapsed": true
   },
   "outputs": [],
   "source": [
    "## one_shot_iterator 문제점: trainset, testset의 크기가 다른경우 \n",
    "## out of range 에러가 생기는 경우 \n",
    "img = tf.reshape(img,[-1,61,49,1]) ## 자동셋팅, 행61 * 열49 pixel, 1color(흑백) \n",
    "img = tf.cast(img, tf.float32) ## 실수형 32 변경 "
   ]
  },
  {
   "cell_type": "code",
   "execution_count": null,
   "metadata": {
    "collapsed": true
   },
   "outputs": [],
   "source": [
    "age = tf.reshape(age,[-1]) ## 자동셋팅, 일자로 쫙펴줌 ## reduce_mean 써도됨\n",
    "age = tf.one_hot(age, depth = 3, axis = -1, dtype = tf.float32)\n"
   ]
  },
  {
   "cell_type": "code",
   "execution_count": null,
   "metadata": {
    "collapsed": true
   },
   "outputs": [],
   "source": [
    "with tf.Session() as sess:\n",
    "    _age,_img = sess.run([age, img])\n",
    "    print(_age)\n",
    "    print(_img)\n",
    "    # plt.imshow(_img)"
   ]
  },
  {
   "cell_type": "code",
   "execution_count": null,
   "metadata": {
    "collapsed": true
   },
   "outputs": [],
   "source": [
    "## convolution 시작 "
   ]
  },
  {
   "cell_type": "code",
   "execution_count": null,
   "metadata": {
    "collapsed": true
   },
   "outputs": [],
   "source": [
    "activation = tf.nn.relu ## convolution : relu function \n",
    "reuse = False"
   ]
  },
  {
   "cell_type": "code",
   "execution_count": null,
   "metadata": {
    "collapsed": true
   },
   "outputs": [],
   "source": [
    "conv1 = tf.layers.conv2d(img,filters=16,\n",
    "                         kernel_size = 4, padding='same', \n",
    "                         activation = activation, reuse =reuse, \n",
    "                         name = 'conv1')\n",
    "\n",
    "print(conv1.shape)\n",
    "pool1 = tf.layers.max_pooling2d(conv1, pool_size = 2, strides =2) ## 사이즈2, 보폭2 인 polling\n",
    "print(pool1.shape)"
   ]
  },
  {
   "cell_type": "code",
   "execution_count": null,
   "metadata": {
    "collapsed": true
   },
   "outputs": [],
   "source": [
    "conv2= tf.layers.conv2d(conv1, filters=32,\n",
    "                       kernel_size = 3, padding='same', \n",
    "                        activation = activation, reuse =reuse, \n",
    "                         name = 'conv2')\n",
    "print(conv2.shape)\n",
    "pool2 = tf.layers.max_pooling2d(conv2,pool_size = 2, strides =2)\n",
    "print(pool2.shape) ## shape 가 홀수인경우 pooling 하면 나머지줄은 버림 "
   ]
  },
  {
   "cell_type": "code",
   "execution_count": null,
   "metadata": {
    "collapsed": true
   },
   "outputs": [],
   "source": [
    "conv3= tf.layers.conv2d(conv2, filters=32,\n",
    "                       kernel_size = 4, padding='same', \n",
    "                        activation = activation, reuse =reuse, \n",
    "                         name = 'conv3')\n",
    "print(conv3.shape)\n",
    "pool3 = tf.layers.max_pooling2d(conv3,pool_size = 2, strides =2)\n",
    "\n",
    "print(pool3.shape)"
   ]
  },
  {
   "cell_type": "code",
   "execution_count": null,
   "metadata": {
    "collapsed": true
   },
   "outputs": [],
   "source": [
    "## layer 시작 세팅 \n",
    "flat = tf.layers.flatten(pool3)\n",
    "## flat_size = int(pool3.shape[1]) * int(pool3.shape[2]) * int(pool3.shape[3])\n",
    "## flat = tf.reshape(pool3, [-1, flat_size]) 으로 대체가능 \n",
    "print(flat.shape)"
   ]
  },
  {
   "cell_type": "code",
   "execution_count": null,
   "metadata": {
    "collapsed": true
   },
   "outputs": [],
   "source": [
    "## dropout 설정"
   ]
  },
  {
   "cell_type": "code",
   "execution_count": null,
   "metadata": {
    "collapsed": true
   },
   "outputs": [],
   "source": [
    "fc1 = tf.layers.dense(flat, units = 5000, \n",
    "                      activation = tf.nn.relu, \n",
    "                      reuse =reuse, name = 'fc1')\n",
    "\n",
    "print(fc1.shape)"
   ]
  },
  {
   "cell_type": "code",
   "execution_count": null,
   "metadata": {
    "collapsed": true
   },
   "outputs": [],
   "source": [
    "fc2 = tf.layers.dense(fc1, units = 1000, \n",
    "                      activation = tf.nn.relu, \n",
    "                      reuse =reuse, name = 'fc2')\n",
    "print(fc2.shape)"
   ]
  },
  {
   "cell_type": "code",
   "execution_count": null,
   "metadata": {
    "collapsed": true
   },
   "outputs": [],
   "source": [
    "out = tf.layers.dense(fc2, units = 3, \n",
    "                      activation = tf.nn.relu, \n",
    "                      reuse =reuse, name = 'out')\n",
    "print(out.shape)"
   ]
  },
  {
   "cell_type": "markdown",
   "metadata": {},
   "source": [
    "## 강사님 코드 \n",
    "\n",
    "import tensorflow as tf\n",
    "\n",
    "tf.reset_default_graph()\n",
    "\n",
    "def parser(serialized_example):\n",
    "    features = {\n",
    "        'age': tf.FixedLenFeature([1], tf.int64),\n",
    "        'img': tf.FixedLenFeature([61*49], tf.int64)\n",
    "    }\n",
    "    \n",
    "    parsed_feature = tf.parse_single_example(serialized_example, features)\n",
    "    age = parsed_feature['age']\n",
    "    img = parsed_feature['img']\n",
    "    return age, img\n",
    "\n",
    "\n",
    "train_data_dir = '../cnn_dataset/face_train.tfrecord'\n",
    "test_data_dir = '../cnn_dataset/face_test.tfrecord'\n",
    "\n",
    "train_dataset = tf.contrib.data.TFRecordDataset(train_data_dir).map(parser)\n",
    "train_dataset = train_dataset.shuffle(7777)\n",
    "train_dataset = train_dataset.batch(32)\n",
    "\n",
    "itr = train_dataset.make_one_shot_iterator()\n",
    "\n",
    "age, img = itr.get_next()\n",
    "\n",
    "img = tf.reshape(img, [-1, 61, 49, 1])\n",
    "img = tf.cast(img, tf.float32)\n",
    "\n",
    "age = tf.reshape(age, [-1])\n",
    "age = tf.one_hot(age, depth=3, axis=-1, dtype=tf.float32)\n",
    "\n",
    "activation = tf.nn.relu\n",
    "reuse = False\n",
    "conv1 = tf.layers.conv2d(img, \n",
    "                         filters=16, \n",
    "                         kernel_size=4, \n",
    "                         padding='same', \n",
    "                         activation=activation, \n",
    "                         reuse=reuse, \n",
    "                         name='conv1')\n",
    "print(conv1.shape)\n",
    "conv2 = tf.layers.conv2d(conv1,\n",
    "                        filters=32,\n",
    "                        kernel_size=3,\n",
    "                        padding='same',\n",
    "                        activation=activation,\n",
    "                        reuse=reuse,\n",
    "                        name='conv2')\n",
    "print(conv2.shape)\n",
    "pool2 = tf.layers.max_pooling2d(conv2, pool_size=2, strides=2)\n",
    "print(pool2.shape)\n",
    "\n",
    "conv3 = tf.layers.conv2d(pool2,\n",
    "                        filters=64,\n",
    "                        kernel_size=3,\n",
    "                        padding='same',\n",
    "                        activation=activation,\n",
    "                        reuse=reuse,\n",
    "                        name='conv3')\n",
    "print(conv3.shape)\n",
    "pool3 = tf.layers.max_pooling2d(conv3, pool_size=2, strides=2)\n",
    "print(pool3.shape)\n",
    "\n",
    "flat = tf.layers.flatten(pool3)\n",
    "print(flat.shape)\n",
    "\n",
    "fc1 = tf.layers.dense(flat, \n",
    "                      units=5000, \n",
    "                      activation=tf.nn.relu, \n",
    "                      reuse=reuse, \n",
    "                      name='fc1')\n",
    "\n",
    "print(fc1.shape)\n",
    "fc2 = tf.layers.dense(fc1,\n",
    "                     units=1000,\n",
    "                     activation=tf.nn.relu,\n",
    "                     reuse=reuse,\n",
    "                     name='fc2')\n",
    "print(fc2.shape)\n",
    "\n",
    "out = tf.layers.dense(fc2,\n",
    "                     units=3,\n",
    "                     reuse=reuse,\n",
    "                     name='out')\n",
    "print(out.shape)\n",
    "\n",
    "# with tf.Session() as sess:\n",
    "#     _age, _img = sess.run([age, img])"
   ]
  },
  {
   "cell_type": "code",
   "execution_count": null,
   "metadata": {
    "collapsed": true
   },
   "outputs": [],
   "source": []
  }
 ],
 "metadata": {
  "kernelspec": {
   "display_name": "Python 3",
   "language": "python",
   "name": "python3"
  },
  "language_info": {
   "codemirror_mode": {
    "name": "ipython",
    "version": 3
   },
   "file_extension": ".py",
   "mimetype": "text/x-python",
   "name": "python",
   "nbconvert_exporter": "python",
   "pygments_lexer": "ipython3",
   "version": "3.6.1"
  }
 },
 "nbformat": 4,
 "nbformat_minor": 2
}
