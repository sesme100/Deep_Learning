{
 "cells": [
  {
   "cell_type": "code",
   "execution_count": 1,
   "metadata": {
    "collapsed": true
   },
   "outputs": [],
   "source": [
    "import tensorflow as tf"
   ]
  },
  {
   "cell_type": "code",
   "execution_count": 2,
   "metadata": {
    "collapsed": true
   },
   "outputs": [],
   "source": [
    "placeholder = tf.placeholder(dtype = tf.float32, shape=[3,3])\n",
    "Variables = tf.Variable([1,2,3,4,5], dtype = tf.float32)\n",
    "constant = tf.constant([10,20,30,40,50], dtype = tf.float32)"
   ]
  },
  {
   "cell_type": "code",
   "execution_count": 3,
   "metadata": {
    "collapsed": true
   },
   "outputs": [],
   "source": [
    "image = [[1,3,4,5,6]\n",
    "        ,[5,6,7,2,1]\n",
    "        ,[10,20,30,40,50]]\n",
    "label = [10,20,30,40,50]\n",
    "\n",
    "ph_image=tf.placeholder(dtype = tf.float32)\n",
    "ph_label=tf.placeholder(dtype = tf.float32)\n",
    "\n",
    "feed_dict = {ph_image:image, ph_label:label}\n",
    "\n",
    "result_tensor = ph_image + ph_label "
   ]
  },
  {
   "cell_type": "code",
   "execution_count": 4,
   "metadata": {},
   "outputs": [
    {
     "name": "stdout",
     "output_type": "stream",
     "text": [
      "[[  11.   23.   34.   45.   56.]\n",
      " [  15.   26.   37.   42.   51.]\n",
      " [  20.   40.   60.   80.  100.]]\n"
     ]
    }
   ],
   "source": [
    "sess = tf.Session() \n",
    "result = sess.run(result_tensor, feed_dict = feed_dict)\n",
    "print(result)"
   ]
  },
  {
   "cell_type": "code",
   "execution_count": 5,
   "metadata": {
    "collapsed": true
   },
   "outputs": [],
   "source": [
    "sess.close()"
   ]
  },
  {
   "cell_type": "code",
   "execution_count": null,
   "metadata": {
    "collapsed": true
   },
   "outputs": [],
   "source": []
  },
  {
   "cell_type": "code",
   "execution_count": 6,
   "metadata": {
    "collapsed": true
   },
   "outputs": [],
   "source": [
    "import tensorflow as tf\n"
   ]
  },
  {
   "cell_type": "code",
   "execution_count": 7,
   "metadata": {
    "collapsed": true
   },
   "outputs": [],
   "source": [
    "input_data = [[1,2,3,4,5,6,7]\n",
    "             ,[9,1,2,3,6,7,0]]\n",
    "label_data = [[0,0,0,1,0]\n",
    "             ,[1,0,0,0,0]]"
   ]
  },
  {
   "cell_type": "code",
   "execution_count": 8,
   "metadata": {
    "collapsed": true
   },
   "outputs": [],
   "source": [
    "input_size = 7\n",
    "hidden1_size = 10\n",
    "hidden2_size = 8\n",
    "classes = 5\n",
    "\n",
    "learning_rate = 5e-2"
   ]
  },
  {
   "cell_type": "code",
   "execution_count": 9,
   "metadata": {
    "collapsed": true
   },
   "outputs": [],
   "source": [
    "x = tf.placeholder(tf.float32, shape = [None,input_size])\n",
    "## 일반적으로 배치의 개수를 알지못해서 None값으로 지정\n",
    "y_ = tf.placeholder(tf.float32, shape = [None,classes])"
   ]
  },
  {
   "cell_type": "code",
   "execution_count": 10,
   "metadata": {
    "collapsed": true
   },
   "outputs": [],
   "source": [
    "tensor_map = {x:input_data, y_: label_data}"
   ]
  },
  {
   "cell_type": "code",
   "execution_count": 11,
   "metadata": {
    "collapsed": true
   },
   "outputs": [],
   "source": [
    "W_h1 = tf.Variable(tf.truncated_normal(shape = [input_size, hidden1_size]), dtype = tf.float32)\n",
    "b_h1 = tf.Variable(tf.zeros (shape = [hidden1_size]), dtype = tf.float32)\n",
    "\n",
    "## truncated_normal : 가중치들은 이 함수로 초기화 되는데 이때 주어진 평균값과 표준편차에 따라 값을 만들어냄 \n",
    "W_h2 = tf.Variable(tf.truncated_normal(shape = [hidden1_size, hidden2_size]), dtype = tf.float32)\n",
    "b_h2 = tf.Variable(tf.zeros (shape = [hidden2_size]), dtype = tf.float32)\n",
    "\n",
    "W_out = tf.Variable(tf.truncated_normal(shape = [hidden2_size, classes]), dtype = tf.float32)\n",
    "b_out = tf.Variable(tf.zeros (shape = [classes]), dtype = tf.float32)"
   ]
  },
  {
   "cell_type": "code",
   "execution_count": 12,
   "metadata": {
    "collapsed": true
   },
   "outputs": [],
   "source": [
    "hidden1 = tf.nn.softmax(tf.matmul(x, W_h1) +b_h1)\n",
    "hidden2 = tf.nn.softmax(tf.matmul(hidden1,W_h2) +b_h2)\n",
    "y = tf.nn.softmax(tf.matmul(hidden2, W_out) +b_out)\n",
    "\n",
    "## 활성함수 \n"
   ]
  },
  {
   "cell_type": "code",
   "execution_count": 13,
   "metadata": {
    "collapsed": true
   },
   "outputs": [],
   "source": [
    "cost = tf.reduce_mean(-y_*tf.log(y)-(1-y_)*tf.log(1-y))\n",
    "train = tf.train.GradientDescentOptimizer(learning_rate).minimize(cost)"
   ]
  },
  {
   "cell_type": "code",
   "execution_count": 14,
   "metadata": {},
   "outputs": [
    {
     "name": "stdout",
     "output_type": "stream",
     "text": [
      "0.493155\n"
     ]
    }
   ],
   "source": [
    "sess = tf.Session()\n",
    "init = tf.global_variables_initializer()\n",
    "sess.run(init)\n",
    "print(sess.run(cost, feed_dict = tensor_map))"
   ]
  },
  {
   "cell_type": "code",
   "execution_count": 15,
   "metadata": {
    "collapsed": true
   },
   "outputs": [],
   "source": [
    "sess.close()"
   ]
  },
  {
   "cell_type": "code",
   "execution_count": null,
   "metadata": {
    "collapsed": true
   },
   "outputs": [],
   "source": []
  }
 ],
 "metadata": {
  "kernelspec": {
   "display_name": "Python 3",
   "language": "python",
   "name": "python3"
  },
  "language_info": {
   "codemirror_mode": {
    "name": "ipython",
    "version": 3
   },
   "file_extension": ".py",
   "mimetype": "text/x-python",
   "name": "python",
   "nbconvert_exporter": "python",
   "pygments_lexer": "ipython3",
   "version": "3.6.1"
  }
 },
 "nbformat": 4,
 "nbformat_minor": 2
}
