{
 "cells": [
  {
   "cell_type": "code",
   "execution_count": null,
   "metadata": {
    "collapsed": true
   },
   "outputs": [],
   "source": [
    "!export CUDA_VISIBLE_DEVICES=2 ## 2번 GPU 사용 (모델이 깊어지면 지정하여 전체 사용GPU 사용분산)"
   ]
  },
  {
   "cell_type": "code",
   "execution_count": null,
   "metadata": {
    "collapsed": true
   },
   "outputs": [],
   "source": [
    "## CNN 모델사용 "
   ]
  },
  {
   "cell_type": "code",
   "execution_count": 10,
   "metadata": {
    "collapsed": true
   },
   "outputs": [],
   "source": [
    "import tensorflow as tf\n",
    "import os\n",
    "import numpy as np\n",
    "import matplotlib.pyplot as plt\n"
   ]
  },
  {
   "cell_type": "code",
   "execution_count": 11,
   "metadata": {
    "collapsed": true
   },
   "outputs": [],
   "source": [
    "tf.reset_default_graph()\n",
    "\n",
    "def parser(serialized_example):\n",
    "    feature = {\n",
    "        'age': tf.FixedLenFeature([1], tf.int64),#Configuration for parsing a fixed-length input feature.\n",
    "        'img': tf.FixedLenFeature([61*49], tf.int64) ## 61*49 픽셀\n",
    "    }\n",
    "    \n",
    "    parsed_feature = tf.parse_single_example(serialized_example, feature)\n",
    "    age = tf.cast(parsed_feature['age'], tf.int32)## one-hot 으로 바꿔야 하므로 intiger\n",
    "    img = tf.cast(parsed_feature['img'], tf.float32)## imgage는 실수형\n",
    "    \n",
    "    return age, img"
   ]
  },
  {
   "cell_type": "code",
   "execution_count": 12,
   "metadata": {
    "collapsed": true
   },
   "outputs": [],
   "source": [
    "face_train = './cnn_dataset/face_train.tfrecord'\n",
    "face_test = './cnn_dataset/face_test.tfrecord'\n",
    "train_dataset = tf.contrib.data.TFRecordDataset(face_train).map(parser)## parcer fuction mapping \n",
    "train_dataset = train_dataset.batch(32).shuffle(7777) "
   ]
  },
  {
   "cell_type": "code",
   "execution_count": 13,
   "metadata": {
    "collapsed": true
   },
   "outputs": [],
   "source": [
    "test_dataset = tf.contrib.data.TFRecordDataset(face_test).map(parser)\n",
    "test_dataset = test_dataset.batch(32).shuffle(7777)\n"
   ]
  },
  {
   "cell_type": "code",
   "execution_count": null,
   "metadata": {
    "collapsed": true
   },
   "outputs": [],
   "source": [
    "#itr = train_dataset.make_one_shot_iterator() ## iterator 생성\n",
    "itr = tf.contrib.data.Iterator.from_structure(\n",
    "    train_dataset.output_types, train_dataset.output_shapes) ## type, shape만 정하면 됨\n",
    "\n",
    "age, img = itr.get_next()## 하나끝나면 그다음꺼 하나씩 빼옴 "
   ]
  },
  {
   "cell_type": "code",
   "execution_count": null,
   "metadata": {
    "collapsed": true
   },
   "outputs": [],
   "source": [
    "## one_shot_iterator 문제점: trainset, testset의 크기가 다른경우 \n",
    "## out of range 에러가 생기는 경우 - 해결: initializing \n",
    "\n",
    "img = tf.reshape(img,[-1,61,49,1]) ## 자동셋팅, 행61 * 열49 pixel, 1color(흑백) \n",
    "img = tf.cast(img, tf.float32) ## 실수형 32 변경 "
   ]
  },
  {
   "cell_type": "code",
   "execution_count": null,
   "metadata": {
    "collapsed": true
   },
   "outputs": [],
   "source": [
    "age = tf.reshape(age,[-1]) ## 자동셋팅 일자로 쫙펴줌 ## reduce_mean 써도됨\n",
    "age_onehot = tf.one_hot(age, depth = 3, axis = -1, dtype = tf.float32)\n",
    "\n",
    "## trainset, testset 하나의 itr로 연동 \n",
    "training_init_op = itr.make_initializer(train_dataset)\n",
    "test_init_op = itr.make_initializer(test_dataset)"
   ]
  },
  {
   "cell_type": "code",
   "execution_count": null,
   "metadata": {
    "collapsed": true
   },
   "outputs": [],
   "source": [
    "## convolution 시작 "
   ]
  },
  {
   "cell_type": "code",
   "execution_count": null,
   "metadata": {
    "collapsed": true
   },
   "outputs": [],
   "source": [
    "def model(x, activation, dropout_prob, reuse = False):\n",
    "    \n",
    "    conv1 = tf.layers.conv2d(img,filters=16,\n",
    "                             kernel_size = 4, padding='same', \n",
    "                             activation = activation, reuse =reuse, \n",
    "                             name = 'conv1')\n",
    "    pool1 = tf.layers.max_pooling2d(conv1, pool_size = 2, strides =2) ## 사이즈2, 보폭2 인 polling\n",
    "\n",
    "    conv2= tf.layers.conv2d(conv1, filters=32,\n",
    "                           kernel_size = 3, padding='same', \n",
    "                            activation = activation, reuse =reuse, \n",
    "                             name = 'conv2')\n",
    "    pool2 = tf.layers.max_pooling2d(conv2,pool_size = 2, strides =2) ## shape 가 홀수인경우 pooling 하면 나머지줄은 버림 \n",
    "    \n",
    "    conv3= tf.layers.conv2d(conv2, filters=32,\n",
    "                           kernel_size = 4, padding='same', \n",
    "                            activation = activation, reuse =reuse, \n",
    "                             name = 'conv3')\n",
    "\n",
    "    pool3 = tf.layers.max_pooling2d(conv3,pool_size = 2, strides =2)\n",
    "\n",
    "\n",
    "    ## layer 시작 세팅 \n",
    "    flat = tf.layers.flatten(pool3)\n",
    "    ## flat_size = int(pool3.shape[1]) * int(pool3.shape[2]) * int(pool3.shape[3])\n",
    "    ## flat = tf.reshape(pool3, [-1, flat_size]) 으로 대체가능 \n",
    "\n",
    "    dropout1 = tf.layers.dropout(flat, dropout_prob)\n",
    "    fc1 = tf.layers.dense(flat, units = 5000, \n",
    "                          activation = tf.nn.relu, \n",
    "                          reuse =reuse, name = 'fc1')\n",
    "\n",
    "    dropout2 = tf.layers.dropout(fc1, dropout_prob)\n",
    "    fc2 = tf.layers.dense(fc1, units = 1000, \n",
    "                          activation = tf.nn.relu, \n",
    "                          reuse =reuse, name = 'fc2')\n",
    "\n",
    "    out = tf.layers.dense(fc2, units = 3, \n",
    "                          activation = tf.nn.relu, \n",
    "                          reuse =reuse, name = 'out')\n",
    "\n",
    "    return out "
   ]
  },
  {
   "cell_type": "code",
   "execution_count": null,
   "metadata": {
    "collapsed": true
   },
   "outputs": [],
   "source": [
    "train_out = model(img, tf.nn.relu, 0.7) ## dropout은 70% \n",
    "test_out = model(img, tf.nn.relu, 0, True) ## drop out은 0% "
   ]
  },
  {
   "cell_type": "code",
   "execution_count": null,
   "metadata": {
    "collapsed": true
   },
   "outputs": [],
   "source": [
    "loss = tf.losses.softmax_cross_entropy(age_onehot, train_out)\n",
    "train_op = tf.train.GradientDescentOptimizer(1e-6).minimize(loss)"
   ]
  },
  {
   "cell_type": "code",
   "execution_count": null,
   "metadata": {
    "collapsed": true
   },
   "outputs": [],
   "source": [
    "tf.summary.scalar ('loss', loss) ## loss 에 대해서 summary collecting\n",
    "merged = tf.summary.merge_all()"
   ]
  },
  {
   "cell_type": "code",
   "execution_count": null,
   "metadata": {
    "collapsed": true
   },
   "outputs": [],
   "source": [
    "pred = tf.argmax(tf.nn.softmax(test_out), axis=1)\n",
    "accuracy = tf.metrics.accuracy(age, pred)"
   ]
  },
  {
   "cell_type": "code",
   "execution_count": null,
   "metadata": {
    "collapsed": true
   },
   "outputs": [],
   "source": [
    "with tf.Session() as sess:\n",
    "    sess.run(tf.global_variables_initializer())\n",
    "    sess.run(tf.local_variables_initializer())\n",
    "    \n",
    "    #writer = tf.summary.FileWriter('cnn_dataset/'.sess.graph)\n",
    "    for epoch in range(10):\n",
    "        sess.run(training_init_op)\n",
    "        for train_step in range(999999):\n",
    "            try:\n",
    "                _, _loss = sess.run([train_out, loss])\n",
    "                _summ = sess.run(merged)\n",
    "            except tf.errors.OutOfRangeError:\n",
    "                break\n",
    "                \n",
    "        sess.run(test_init_op)\n",
    "        for test_step in range(9999999):\n",
    "            try:\n",
    "                _acc = sess.run(accuracy)\n",
    "                    \n",
    "            except tf.errors.OutOfRangeError:\n",
    "                break\n",
    "                \n",
    "        print('epochs: {}, loss: {}, acc: {}'.format(epoch, _loss, _acc[0]))\n",
    "\n",
    "    # saver.save(sess,'cnn_dataset parameters')"
   ]
  },
  {
   "cell_type": "raw",
   "metadata": {
    "collapsed": true
   },
   "source": [
    "## 결과값\n",
    "\n",
    "epochs: 0, loss: 1.9985778331756592, acc: 0.5483011603355408\n",
    "epochs: 1, loss: 4.071038246154785, acc: 0.5395517349243164\n",
    "epochs: 2, loss: 2.044276714324951, acc: 0.5384278297424316\n",
    "epochs: 3, loss: 0.28779149055480957, acc: 0.5386885404586792\n",
    "epochs: 4, loss: 1.3871597051620483, acc: 0.5380584597587585\n",
    "epochs: 5, loss: 5.626227855682373, acc: 0.5386210083961487\n",
    "epochs: 6, loss: 1.281252145767212, acc: 0.5379007458686829\n",
    "epochs: 7, loss: 5.695623397827148, acc: 0.5383420586585999\n",
    "epochs: 8, loss: 2.4360437393188477, acc: 0.5389756560325623\n",
    "epochs: 9, loss: 0.619662344455719, acc: 0.5386325120925903"
   ]
  },
  {
   "cell_type": "code",
   "execution_count": null,
   "metadata": {
    "collapsed": true
   },
   "outputs": [],
   "source": []
  }
 ],
 "metadata": {
  "kernelspec": {
   "display_name": "Python 3",
   "language": "python",
   "name": "python3"
  },
  "language_info": {
   "codemirror_mode": {
    "name": "ipython",
    "version": 3
   },
   "file_extension": ".py",
   "mimetype": "text/x-python",
   "name": "python",
   "nbconvert_exporter": "python",
   "pygments_lexer": "ipython3",
   "version": "3.6.1"
  }
 },
 "nbformat": 4,
 "nbformat_minor": 2
}
