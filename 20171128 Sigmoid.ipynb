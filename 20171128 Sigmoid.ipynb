{
 "cells": [
  {
   "cell_type": "code",
   "execution_count": 1,
   "metadata": {
    "collapsed": true
   },
   "outputs": [],
   "source": [
    "import tensorflow as tf\n",
    "import matplotlib.pyplot as plt\n",
    "import numpy as np\n",
    "% matplotlib inline"
   ]
  },
  {
   "cell_type": "code",
   "execution_count": 4,
   "metadata": {},
   "outputs": [],
   "source": [
    "samples = 1000\n",
    "data = [1e-2*float(i) for i in range (-samples, samples)]\n",
    "label = [1 if i >3.14 else 0 for i in range (-samples, samples)]"
   ]
  },
  {
   "cell_type": "code",
   "execution_count": 5,
   "metadata": {},
   "outputs": [
    {
     "data": {
      "text/plain": [
       "<matplotlib.collections.PathCollection at 0x1d2603d7748>"
      ]
     },
     "execution_count": 5,
     "metadata": {},
     "output_type": "execute_result"
    },
    {
     "data": {
      "image/png": "[encoded data removed]",
      "text/plain": [
       "<matplotlib.figure.Figure at 0x1d2604f98d0>"
      ]
     },
     "metadata": {},
     "output_type": "display_data"
    }
   ],
   "source": [
    "plt.scatter(data, label,1,'r')"
   ]
  },
  {
   "cell_type": "code",
   "execution_count": 15,
   "metadata": {
    "collapsed": true
   },
   "outputs": [],
   "source": [
    "x = tf.placeholder(tf.float32)\n",
    "y_ = tf.placeholder(tf.float32)\n",
    "\n",
    "w = tf.Variable(0.0, dtype = tf.float32)\n",
    "b = tf.Variable(0.0, dtype = tf.float32)\n",
    "y =w*x+b"
   ]
  },
  {
   "cell_type": "code",
   "execution_count": 16,
   "metadata": {
    "collapsed": true
   },
   "outputs": [],
   "source": [
    "loss = tf.losses.sigmoid_cross_entropy(y_,y) "
   ]
  },
  {
   "cell_type": "code",
   "execution_count": 24,
   "metadata": {},
   "outputs": [
    {
     "data": {
      "text/plain": [
       "<tf.Operation 'GradientDescent_5' type=NoOp>"
      ]
     },
     "execution_count": 24,
     "metadata": {},
     "output_type": "execute_result"
    }
   ],
   "source": [
    "train_op = tf.train.GradientDescentOptimizer(1e-2).minimize(loss)\n",
    "train_op\n"
   ]
  },
  {
   "cell_type": "code",
   "execution_count": 18,
   "metadata": {
    "collapsed": true
   },
   "outputs": [],
   "source": [
    "init = tf.global_variables_initializer()"
   ]
  },
  {
   "cell_type": "code",
   "execution_count": 21,
   "metadata": {},
   "outputs": [
    {
     "name": "stdout",
     "output_type": "stream",
     "text": [
      "step:0, loss:0.6931459307670593\n",
      "step:100, loss:0.13942132890224457\n",
      "step:200, loss:0.10745799541473389\n",
      "step:300, loss:0.09289433062076569\n",
      "step:400, loss:0.0839526578783989\n",
      "step:500, loss:0.07768644392490387\n",
      "step:600, loss:0.07295096665620804\n",
      "step:700, loss:0.06919293105602264\n",
      "step:800, loss:0.06610629707574844\n",
      "step:900, loss:0.06350595504045486\n",
      "step:1000, loss:0.061271924525499344\n",
      "step:1100, loss:0.059322476387023926\n",
      "step:1200, loss:0.05759963393211365\n",
      "step:1300, loss:0.056061044335365295\n",
      "step:1400, loss:0.05467473343014717\n",
      "step:1500, loss:0.053416136652231216\n",
      "step:1600, loss:0.05226598680019379\n",
      "step:1700, loss:0.051208920776844025\n",
      "step:1800, loss:0.05023253709077835\n",
      "step:1900, loss:0.0493265800178051\n",
      "step:2000, loss:0.04848265275359154\n",
      "step:2100, loss:0.04769366979598999\n",
      "step:2200, loss:0.04695364832878113\n",
      "step:2300, loss:0.04625752940773964\n",
      "step:2400, loss:0.04560094699263573\n",
      "step:2500, loss:0.044980116188526154\n",
      "step:2600, loss:0.044391755014657974\n",
      "step:2700, loss:0.04383303225040436\n",
      "step:2800, loss:0.04330141469836235\n",
      "step:2900, loss:0.04279467463493347\n",
      "step:3000, loss:0.04231085628271103\n",
      "step:3100, loss:0.041848208755254745\n",
      "step:3200, loss:0.04140515252947807\n",
      "step:3300, loss:0.040980264544487\n",
      "step:3400, loss:0.04057229682803154\n",
      "step:3500, loss:0.04018009454011917\n",
      "step:3600, loss:0.03980265557765961\n",
      "step:3700, loss:0.03943898528814316\n",
      "step:3800, loss:0.03908826410770416\n",
      "step:3900, loss:0.03874969482421875\n",
      "step:4000, loss:0.03842253237962723\n",
      "step:4100, loss:0.03810616955161095\n",
      "step:4200, loss:0.03779996186494827\n",
      "step:4300, loss:0.03750337287783623\n",
      "step:4400, loss:0.03721586614847183\n",
      "step:4500, loss:0.036936987191438675\n",
      "step:4600, loss:0.03666627034544945\n",
      "step:4700, loss:0.03640332072973251\n",
      "step:4800, loss:0.03614775836467743\n",
      "step:4900, loss:0.035899221897125244\n",
      "step:5000, loss:0.035657379776239395\n",
      "step:5100, loss:0.03542191907763481\n",
      "step:5200, loss:0.0351925753057003\n",
      "step:5300, loss:0.0349690243601799\n",
      "step:5400, loss:0.03475106880068779\n",
      "step:5500, loss:0.03453843668103218\n",
      "step:5600, loss:0.03433091565966606\n",
      "step:5700, loss:0.03412831202149391\n",
      "step:5800, loss:0.033930372446775436\n",
      "step:5900, loss:0.033736955374479294\n",
      "step:6000, loss:0.033547889441251755\n",
      "step:6100, loss:0.033362969756126404\n",
      "step:6200, loss:0.03318207710981369\n",
      "step:6300, loss:0.03300502896308899\n",
      "step:6400, loss:0.032831717282533646\n",
      "step:6500, loss:0.032661985605955124\n",
      "step:6600, loss:0.03249568119645119\n",
      "step:6700, loss:0.03233274444937706\n",
      "step:6800, loss:0.03217301517724991\n",
      "step:6900, loss:0.03201640397310257\n",
      "step:7000, loss:0.031862787902355194\n",
      "step:7100, loss:0.03171209245920181\n",
      "step:7200, loss:0.03156418353319168\n",
      "step:7300, loss:0.031418997794389725\n",
      "step:7400, loss:0.031276457011699677\n",
      "step:7500, loss:0.03113645873963833\n",
      "step:7600, loss:0.030998947098851204\n",
      "step:7700, loss:0.030863823369145393\n",
      "step:7800, loss:0.030731026083230972\n",
      "step:7900, loss:0.03060048259794712\n",
      "step:8000, loss:0.030472125858068466\n",
      "step:8100, loss:0.030345916748046875\n",
      "step:8200, loss:0.03022175282239914\n",
      "step:8300, loss:0.030099598690867424\n",
      "step:8400, loss:0.029979391023516655\n",
      "step:8500, loss:0.029861096292734146\n",
      "step:8600, loss:0.029744628816843033\n",
      "step:8700, loss:0.029629971832036972\n",
      "step:8800, loss:0.029517047107219696\n",
      "step:8900, loss:0.029405826702713966\n",
      "step:9000, loss:0.029296277090907097\n",
      "step:9100, loss:0.029188325628638268\n",
      "step:9200, loss:0.029081951826810837\n",
      "step:9300, loss:0.028977110981941223\n",
      "step:9400, loss:0.028873763978481293\n",
      "step:9500, loss:0.02877187728881836\n",
      "step:9600, loss:0.028671421110630035\n",
      "step:9700, loss:0.028572354465723038\n",
      "step:9800, loss:0.02847464010119438\n",
      "step:9900, loss:0.02837824448943138\n"
     ]
    },
    {
     "data": {
      "image/png": "[encoded data removed]",
      "text/plain": [
       "<matplotlib.figure.Figure at 0x1d260d665f8>"
      ]
     },
     "metadata": {},
     "output_type": "display_data"
    }
   ],
   "source": [
    "with tf.Session() as sess:\n",
    "    sess.run(init)\n",
    "    for i in range(10000):\n",
    "        _,_loss = sess.run([train_op, loss], feed_dict = {x:data,y_:label})\n",
    "        if i % 100 ==0:\n",
    "            _pred =sess.run(tf.nn.sigmoid(y), {x:data})## y 에 대해서는 맵핑하면 안됨\n",
    "            plt.scatter(data,label,1,'b')\n",
    "            plt.scatter(data,_pred,1,'r')\n",
    "            print('step:{}, loss:{}'.format(i,_loss))\n"
   ]
  },
  {
   "cell_type": "code",
   "execution_count": null,
   "metadata": {
    "collapsed": true
   },
   "outputs": [],
   "source": [
    "## 강사님 답\n",
    "import tensorflow as tf\n",
    "import matplotlib.pyplot as plt\n",
    "import numpy as np\n",
    "%matplotlib inline\n",
    "\n",
    "samples = 1000\n",
    "data = [1e-2*float(i) for i in range(-samples, samples)]\n",
    "label = [1 if i>3.14 else 0 for i in range(-samples, samples)]\n",
    "plt.scatter(data, label, 1, 'r')\n",
    "\n",
    "x = tf.placeholder(tf.float32)\n",
    "y_ = tf.placeholder(tf.float32)\n",
    "\n",
    "w = tf.Variable(0.0, dtype=tf.float32)\n",
    "b = tf.Variable(0.0, dtype=tf.float32)\n",
    "\n",
    "y = w*x + b\n",
    "\n",
    "loss = tf.losses.sigmoid_cross_entropy(y_, y) ## loss 함수를 sigmoid cross entropy로 설정 \n",
    "train_op = tf.train.GradientDescentOptimizer(1e-2).minimize(loss)\n",
    "\n",
    "init = tf.global_variables_initializer()\n",
    "\n",
    "with tf.Session() as sess:\n",
    "    sess.run(init)\n",
    "    for i in range(10000):\n",
    "        _, _loss = sess.run([train_op, loss], {x: data, y_: label})\n",
    "        if i%100 == 0:\n",
    "            _pred = sess.run(tf.nn.sigmoid(y), {x: data})\n",
    "            plt.scatter(data, label, 1, 'b')\n",
    "            plt.scatter(data, _pred, 1, 'r')\n",
    "            print('step: {}, loss: {}'.format(i, _loss))"
   ]
  },
  {
   "cell_type": "code",
   "execution_count": 23,
   "metadata": {},
   "outputs": [
    {
     "name": "stdout",
     "output_type": "stream",
     "text": [
      "step: 0, loss: 0.6931459307670593, w:0.024999694898724556,b:-1.9999994037789293e-05\n",
      "step: 100, loss: 0.13942119479179382, w:0.590297520160675,b:-0.001701458590105176\n",
      "step: 200, loss: 0.10745786875486374, w:0.7664674520492554,b:-0.0032725196797400713\n",
      "step: 300, loss: 0.09289419651031494, w:0.8864557147026062,b:-0.004780692048370838\n",
      "step: 400, loss: 0.08395255357027054, w:0.9807012677192688,b:-0.006236686836928129\n",
      "step: 500, loss: 0.07768633961677551, w:1.0596767663955688,b:-0.007647156715393066\n",
      "step: 600, loss: 0.07295085489749908, w:1.1283677816390991,b:-0.00901687704026699\n",
      "step: 700, loss: 0.06919281929731369, w:1.189578652381897,b:-0.01034954097121954\n",
      "step: 800, loss: 0.06610620021820068, w:1.245063066482544,b:-0.011648115701973438\n",
      "step: 900, loss: 0.06350584328174591, w:1.2959966659545898,b:-0.012915078550577164\n",
      "step: 1000, loss: 0.06127181276679039, w:1.343210220336914,b:-0.01415253710001707\n",
      "step: 1100, loss: 0.059322357177734375, w:1.387317419052124,b:-0.015362297184765339\n",
      "step: 1200, loss: 0.057599522173404694, w:1.4287831783294678,b:-0.016545964404940605\n",
      "step: 1300, loss: 0.05606093630194664, w:1.4679701328277588,b:-0.01770494319498539\n",
      "step: 1400, loss: 0.05467461422085762, w:1.5051677227020264,b:-0.01884051039814949\n",
      "step: 1500, loss: 0.05341603234410286, w:1.5406112670898438,b:-0.019953802227973938\n",
      "step: 1600, loss: 0.05226587504148483, w:1.5744937658309937,b:-0.021045859903097153\n",
      "step: 1700, loss: 0.05120880901813507, w:1.6069765090942383,b:-0.022117633372545242\n",
      "step: 1800, loss: 0.050232429057359695, w:1.6381950378417969,b:-0.023170003667473793\n",
      "step: 1900, loss: 0.04932646453380585, w:1.6682664155960083,b:-0.024203751236200333\n",
      "step: 2000, loss: 0.04848254472017288, w:1.6972899436950684,b:-0.02521960251033306\n",
      "step: 2100, loss: 0.04769356921315193, w:1.7253530025482178,b:-0.026218269020318985\n",
      "step: 2200, loss: 0.04695354402065277, w:1.7525309324264526,b:-0.02720038779079914\n",
      "step: 2300, loss: 0.04625742882490158, w:1.7788903713226318,b:-0.028166556730866432\n",
      "step: 2400, loss: 0.04560084640979767, w:1.8044902086257935,b:-0.029117343947291374\n",
      "step: 2500, loss: 0.04498002678155899, w:1.8293830156326294,b:-0.03005327470600605\n",
      "step: 2600, loss: 0.04439166188240051, w:1.8536159992218018,b:-0.030974848195910454\n",
      "step: 2700, loss: 0.0438329353928566, w:1.8772315979003906,b:-0.031882524490356445\n",
      "step: 2800, loss: 0.043301306664943695, w:1.9002662897109985,b:-0.03277674689888954\n",
      "step: 2900, loss: 0.04279458150267601, w:1.9227553606033325,b:-0.03365794196724892\n",
      "step: 3000, loss: 0.04231075942516327, w:1.9447298049926758,b:-0.03452649340033531\n",
      "step: 3100, loss: 0.041848115622997284, w:1.9662179946899414,b:-0.035382792353630066\n",
      "step: 3200, loss: 0.04140505939722061, w:1.9872463941574097,b:-0.03622719272971153\n",
      "step: 3300, loss: 0.04098016023635864, w:2.007838726043701,b:-0.03706004098057747\n",
      "step: 3400, loss: 0.040572185069322586, w:2.028017044067383,b:-0.03788164258003235\n",
      "step: 3500, loss: 0.04018000140786171, w:2.0478012561798096,b:-0.038692329078912735\n",
      "step: 3600, loss: 0.03980255126953125, w:2.0672101974487305,b:-0.039492394775152206\n",
      "step: 3700, loss: 0.0394388809800148, w:2.0862607955932617,b:-0.04028211534023285\n",
      "step: 3800, loss: 0.0390881672501564, w:2.1049695014953613,b:-0.04106175899505615\n",
      "step: 3900, loss: 0.03874959051609039, w:2.1233510971069336,b:-0.04183159023523331\n",
      "step: 4000, loss: 0.03842243179678917, w:2.1414198875427246,b:-0.04259185865521431\n",
      "step: 4100, loss: 0.03810606896877289, w:2.1591885089874268,b:-0.04334281012415886\n",
      "step: 4200, loss: 0.037799861282110214, w:2.176669120788574,b:-0.044084660708904266\n",
      "step: 4300, loss: 0.037503279745578766, w:2.1938729286193848,b:-0.044817645102739334\n",
      "step: 4400, loss: 0.03721575811505318, w:2.210810899734497,b:-0.04554196447134018\n",
      "step: 4500, loss: 0.036936890333890915, w:2.2274937629699707,b:-0.046257831156253815\n",
      "step: 4600, loss: 0.03666616976261139, w:2.243929624557495,b:-0.04696543514728546\n",
      "step: 4700, loss: 0.03640322387218475, w:2.2601284980773926,b:-0.04766496643424034\n",
      "step: 4800, loss: 0.03614766523241997, w:2.2760980129241943,b:-0.04835662618279457\n",
      "step: 4900, loss: 0.035899125039577484, w:2.29184627532959,b:-0.04904056712985039\n",
      "step: 5000, loss: 0.03565726429224014, w:2.3073813915252686,b:-0.04971696808934212\n",
      "step: 5100, loss: 0.03542182967066765, w:2.322709798812866,b:-0.05038599669933319\n",
      "step: 5200, loss: 0.035192470997571945, w:2.3378381729125977,b:-0.05104781314730644\n",
      "step: 5300, loss: 0.03496892377734184, w:2.3527731895446777,b:-0.05170257017016411\n",
      "step: 5400, loss: 0.03475096821784973, w:2.367521047592163,b:-0.05235041305422783\n",
      "step: 5500, loss: 0.034538328647613525, w:2.382087230682373,b:-0.05299149081110954\n",
      "step: 5600, loss: 0.0343308225274086, w:2.396477222442627,b:-0.05362594500184059\n",
      "step: 5700, loss: 0.03412821516394615, w:2.410696268081665,b:-0.05425390228629112\n",
      "step: 5800, loss: 0.033930275589227676, w:2.4247498512268066,b:-0.05487549677491188\n",
      "step: 5900, loss: 0.033736858516931534, w:2.438642740249634,b:-0.05549085885286331\n",
      "step: 6000, loss: 0.033547792583703995, w:2.452378273010254,b:-0.05610011890530586\n",
      "step: 6100, loss: 0.03336287662386894, w:2.4659624099731445,b:-0.05670338496565819\n",
      "step: 6200, loss: 0.03318198397755623, w:2.479398250579834,b:-0.05730077251791954\n",
      "step: 6300, loss: 0.03300493583083153, w:2.492689609527588,b:-0.05789240822196007\n",
      "step: 6400, loss: 0.03283161297440529, w:2.5058400630950928,b:-0.05847838148474693\n",
      "step: 6500, loss: 0.03266189619898796, w:2.5188543796539307,b:-0.05905881151556969\n",
      "step: 6600, loss: 0.032495591789484024, w:2.531736135482788,b:-0.05963379889726639\n",
      "step: 6700, loss: 0.0323326513171196, w:2.5444869995117188,b:-0.0602034367620945\n",
      "step: 6800, loss: 0.032172925770282745, w:2.5571115016937256,b:-0.06076784059405327\n",
      "step: 6900, loss: 0.03201630339026451, w:2.569612741470337,b:-0.061327096074819565\n",
      "step: 7000, loss: 0.03186269477009773, w:2.581993818283081,b:-0.06188129261136055\n",
      "step: 7100, loss: 0.03171199560165405, w:2.594256639480591,b:-0.062430527061223984\n",
      "step: 7200, loss: 0.03156408667564392, w:2.606405258178711,b:-0.06297489255666733\n",
      "step: 7300, loss: 0.03141890466213226, w:2.618441581726074,b:-0.06351444125175476\n",
      "step: 7400, loss: 0.03127636760473251, w:2.6303672790527344,b:-0.06404930353164673\n",
      "step: 7500, loss: 0.031136371195316315, w:2.6421871185302734,b:-0.064579539000988\n",
      "step: 7600, loss: 0.030998853966593742, w:2.653900623321533,b:-0.06510521471500397\n",
      "step: 7700, loss: 0.03086373209953308, w:2.6655123233795166,b:-0.06562642008066177\n",
      "step: 7800, loss: 0.03073093667626381, w:2.6770241260528564,b:-0.0661432147026062\n",
      "step: 7900, loss: 0.03060039132833481, w:2.6884374618530273,b:-0.06665569543838501\n",
      "step: 8000, loss: 0.03047204203903675, w:2.699754238128662,b:-0.06716393679380417\n",
      "step: 8100, loss: 0.030345818027853966, w:2.710977077484131,b:-0.06766798347234726\n",
      "step: 8200, loss: 0.03022165596485138, w:2.7221076488494873,b:-0.06816792488098145\n",
      "step: 8300, loss: 0.030099505558609962, w:2.7331480979919434,b:-0.0686638131737709\n",
      "step: 8400, loss: 0.029979301616549492, w:2.744100570678711,b:-0.0691557377576828\n",
      "step: 8500, loss: 0.029861005023121834, w:2.75496506690979,b:-0.06964372843503952\n",
      "step: 8600, loss: 0.02974453568458557, w:2.7657456398010254,b:-0.07012785971164703\n",
      "step: 8700, loss: 0.02962988242506981, w:2.776441812515259,b:-0.07060819864273071\n",
      "step: 8800, loss: 0.029516953974962234, w:2.787057399749756,b:-0.07108481228351593\n",
      "step: 8900, loss: 0.02940574288368225, w:2.7975916862487793,b:-0.07155773788690567\n",
      "step: 9000, loss: 0.029296187683939934, w:2.8080475330352783,b:-0.0720270574092865\n",
      "step: 9100, loss: 0.029188236221671104, w:2.8184263706207275,b:-0.07249277830123901\n",
      "step: 9200, loss: 0.029081862419843674, w:2.8287296295166016,b:-0.07295498996973038\n",
      "step: 9300, loss: 0.02897701971232891, w:2.8389580249786377,b:-0.07341376692056656\n",
      "step: 9400, loss: 0.02887367643415928, w:2.8491127490997314,b:-0.07386911660432816\n",
      "step: 9500, loss: 0.028771793469786644, w:2.8591957092285156,b:-0.07432112097740173\n",
      "step: 9600, loss: 0.02867133542895317, w:2.869208335876465,b:-0.07476978749036789\n",
      "step: 9700, loss: 0.028572265058755875, w:2.8791511058807373,b:-0.07521522790193558\n",
      "step: 9800, loss: 0.028474552556872368, w:2.8890256881713867,b:-0.0756574422121048\n",
      "step: 9900, loss: 0.028378158807754517, w:2.8988330364227295,b:-0.07609647512435913\n"
     ]
    },
    {
     "data": {
      "image/png": "[encoded data removed]",
      "text/plain": [
       "<matplotlib.figure.Figure at 0x1d26296ca90>"
      ]
     },
     "metadata": {},
     "output_type": "display_data"
    }
   ],
   "source": [
    "## log loss\n",
    "\n",
    "import tensorflow as tf\n",
    "import matplotlib.pyplot as plt\n",
    "import numpy as np\n",
    "%matplotlib inline\n",
    "\n",
    "samples = 1000\n",
    "data = [1e-2*float(i) for i in range(-samples, samples)] ## x 가 될값들 \n",
    "label = [1 if i>3.14 else 0 for i in range(-samples, samples)] ## y 가 될값들 \n",
    "plt.scatter(data, label, 1, 'r') ## 시그모이드 함수 그래프 \n",
    "\n",
    "x = tf.placeholder(tf.float32) ## x 에 대해지정\n",
    "y_ = tf.placeholder(tf.float32) ## y 에 대해 지정\n",
    " \n",
    "w = tf.Variable(0.0, dtype=tf.float32) ## 0.0부터 시작하여 target w 로 업데이트 함 \n",
    "b = tf.Variable(0.0, dtype=tf.float32) ## 0.0부터 시작하여 target b 를찾아감\n",
    "\n",
    "y = tf.nn.sigmoid(w*x + b)\n",
    "\n",
    "loss = tf.losses.log_loss(y_, y) ## 실제값과 예측지의 코스트 함수 logloss 사용 \n",
    "train_op = tf.train.GradientDescentOptimizer(1e-2).minimize(loss)## optimizer 함수 \n",
    "## learning rate는 1e-2 = 0.01\n",
    "init = tf.global_variables_initializer() ## variables 에대하여 초기값을 정해줌 \n",
    "\n",
    "with tf.Session() as sess:\n",
    "    sess.run(init) ## session을 돌림 \n",
    "    for i in range(10000):\n",
    "        _, _loss,_w,_b = sess.run([train_op, loss,w, b], {x: data, y_: label})## mapping \n",
    "        ## _loss,_w,_b 은 업데이트된 값들 \n",
    "        if i%100 == 0:\n",
    "            _pred = sess.run(y, {x: data})\n",
    "            plt.scatter(data, label, 1, 'b')\n",
    "            plt.scatter(data, _pred, 1, 'r')\n",
    "            print('step: {}, loss: {}, w:{},b:{}'.format(i, _loss,_w,_b))"
   ]
  },
  {
   "cell_type": "code",
   "execution_count": null,
   "metadata": {
    "collapsed": true
   },
   "outputs": [],
   "source": []
  }
 ],
 "metadata": {
  "kernelspec": {
   "display_name": "Python 3",
   "language": "python",
   "name": "python3"
  },
  "language_info": {
   "codemirror_mode": {
    "name": "ipython",
    "version": 3
   },
   "file_extension": ".py",
   "mimetype": "text/x-python",
   "name": "python",
   "nbconvert_exporter": "python",
   "pygments_lexer": "ipython3",
   "version": "3.6.1"
  }
 },
 "nbformat": 4,
 "nbformat_minor": 2
}
